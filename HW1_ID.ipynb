{
 "cells": [
  {
   "cell_type": "markdown",
   "metadata": {
    "id": "QnJUALElET8I"
   },
   "source": [
    "# Exercise 1: Linear Image Classifier\n",
    "\n",
    "In this exercise you will implement a linear image classifier while getting familiar with `numpy` and the benefits of vectorized operations in Python. This exercise has 2 parts:\n",
    "\n",
    "1. Implementing loss functions, calculating gradients and implementing gradient descent.\n",
    "2. Training and evaluating several classifiers.\n",
    "\n",
    "## Submission guidelines:\n",
    "\n",
    "Your submission should only include this jupyter notebook named HW1_ID.ipynb.\n",
    "\n",
    "## Read the following instructions carefully:\n",
    "\n",
    "1. This jupyter notebook contains all the step by step instructions needed for this exercise.\n",
    "2. Write **efficient vectorized** code whenever instructed. \n",
    "3. You are responsible for the correctness of your code and should add as many tests as you see fit. Tests will not be graded nor checked.\n",
    "4. Do not change the functions we provided you. \n",
    "4. Write your functions in the instructed python modules only. All the logic you write is imported and used using this jupyter notebook. You are allowed to add functions as long as they are located in the python modules and are imported properly.\n",
    "5. You are allowed to use functions and methods from the [Python Standard Library](https://docs.python.org/3/library/) and [numpy](https://www.numpy.org/devdocs/reference/) only. Any other imports are forbidden.\n",
    "6. Your code must run without errors.\n",
    "7. Answers to qualitative questions should be written in **markdown** cells (with $\\LaTeX$ support).\n",
    "8. **TIP: When there is a TODO before a missing code segment (or function), you can continue without implementing it right away; you will be referred to the missing segment later in the exercise.**"
   ]
  },
  {
   "cell_type": "markdown",
   "metadata": {
    "id": "_r1L4UklET8K"
   },
   "source": [
    "Q: What files do we need to upload to moodle?\n",
    "\n",
    "A: You should fill in the missing parts in this Jupyter notebook and then submit it via moodle (without any additional files).\n",
    "\n",
    "Q: How do I make sure everything works before I submit?\n",
    "\n",
    "A: You should restart your kernel and rerun all cells. Make sure you get the desired output and that you meet exercise requirements. **This is an important step. You should include your desired outputs in the output cells to make your code easier to understand.**"
   ]
  },
  {
   "cell_type": "markdown",
   "metadata": {
    "id": "UV9XOToVGvLZ"
   },
   "source": [
    "#### Imports"
   ]
  },
  {
   "cell_type": "code",
   "execution_count": 1,
   "metadata": {
    "ExecuteTime": {
     "end_time": "2022-10-29T15:21:00.158255Z",
     "start_time": "2022-10-29T15:20:59.290618Z"
    },
    "id": "iLXvPpILET8K"
   },
   "outputs": [],
   "source": [
    "import os\n",
    "import numpy as np\n",
    "import matplotlib.pyplot as plt\n",
    "import pickle\n",
    "import numpy as np\n",
    "import os\n",
    "import sys\n",
    "import urllib.request\n",
    "import tarfile\n",
    "import zipfile\n",
    "from random import randrange\n",
    "from functools import partial\n",
    "import itertools\n",
    "import time\n",
    "\n",
    "# specify the way plots behave in jupyter notebook\n",
    "%matplotlib inline\n",
    "plt.rcParams['figure.figsize'] = (5.0, 3.0) # set default size of plots\n",
    "plt.rcParams['image.interpolation'] = 'nearest'\n",
    "plt.rcParams['image.cmap'] = 'gray'"
   ]
  },
  {
   "cell_type": "markdown",
   "metadata": {
    "heading_collapsed": true,
    "id": "BtYsC3I7ET8L"
   },
   "source": [
    "# Data preprocessing\n"
   ]
  },
  {
   "cell_type": "markdown",
   "metadata": {
    "hidden": true,
    "id": "-WovI1B4Gxwp"
   },
   "source": [
    "## Data download and processing Helper Code"
   ]
  },
  {
   "cell_type": "code",
   "execution_count": 2,
   "metadata": {
    "ExecuteTime": {
     "end_time": "2022-10-29T15:21:00.767100Z",
     "start_time": "2022-10-29T15:21:00.754066Z"
    },
    "code_folding": [],
    "hidden": true,
    "id": "sC6iBqvmGYsn"
   },
   "outputs": [],
   "source": [
    "def maybe_download_and_extract(url, download_dir):\n",
    "    \"\"\"\n",
    "    Download and extract the data if it doesn't already exist.\n",
    "    Assumes the url is a tar-ball file.\n",
    "    :param url:\n",
    "        Internet URL for the tar-file to download.\n",
    "        Example: \"https://www.cs.toronto.edu/~kriz/cifar-10-python.tar.gz\"\n",
    "    :param download_dir:\n",
    "        Directory where the downloaded file is saved.\n",
    "        Example: \"data/CIFAR-10/\"\n",
    "    :return:\n",
    "        Nothing.\n",
    "    \"\"\"\n",
    "\n",
    "    # Filename for saving the file downloaded from the internet.\n",
    "    # Use the filename from the URL and add it to the download_dir.\n",
    "    filename = url.split('/')[-1]\n",
    "    file_path = os.path.join(download_dir, filename)\n",
    "\n",
    "    # Check if the file already exists.\n",
    "    # If it exists then we assume it has also been extracted,\n",
    "    # otherwise we need to download and extract it now.\n",
    "    if not os.path.exists(file_path):\n",
    "        # Check if the download directory exists, otherwise create it.\n",
    "        if not os.path.exists(download_dir):\n",
    "            os.makedirs(download_dir)\n",
    "\n",
    "        # Download the file from the internet.\n",
    "        print(\"Downloading, This might take several minutes.\")\n",
    "        last_update_time = time.time()\n",
    "        file_path, _ = urllib.request.urlretrieve(url=url,\n",
    "                                                  filename=file_path)\n",
    "\n",
    "        print()\n",
    "        print(\"Download finished. Extracting files.\")\n",
    "\n",
    "        if file_path.endswith(\".zip\"):\n",
    "            # Unpack the zip-file.\n",
    "            zipfile.ZipFile(file=file_path, mode=\"r\").extractall(download_dir)\n",
    "        elif file_path.endswith((\".tar.gz\", \".tgz\")):\n",
    "            # Unpack the tar-ball.\n",
    "            tarfile.open(name=file_path, mode=\"r:gz\").extractall(download_dir)\n",
    "\n",
    "        print(\"Done.\")\n",
    "    else:\n",
    "        print(\"Data has apparently already been downloaded and unpacked.\")\n",
    "        print(\"If not, delete the dataset folder and try again.\")\n",
    "\n",
    "def load_CIFAR_batch(filename):\n",
    "    ''' load single batch of cifar '''\n",
    "    with open(filename, 'rb') as f:\n",
    "        datadict = pickle.load(f, encoding = 'latin1')\n",
    "        X = datadict['data']\n",
    "        Y = datadict['labels']\n",
    "        X = X.reshape(10000, 3, 32, 32).transpose(0, 2, 3, 1).astype(\"float\")\n",
    "        Y = np.array(Y)\n",
    "        return X, Y\n",
    "\n",
    "def load(ROOT):\n",
    "    ''' load all of cifar '''\n",
    "    xs = []\n",
    "    ys = []\n",
    "    for b in range(1, 6):\n",
    "        f = os.path.join(ROOT, 'data_batch_%d' % (b, ))\n",
    "        X, Y = load_CIFAR_batch(f)\n",
    "        xs.append(X)\n",
    "        ys.append(Y)\n",
    "    Xtr = np.concatenate(xs)\n",
    "    Ytr = np.concatenate(ys)\n",
    "    del X, Y\n",
    "    Xte, Yte = load_CIFAR_batch(os.path.join(ROOT, 'test_batch'))\n",
    "    return Xtr, Ytr, Xte, Yte"
   ]
  },
  {
   "cell_type": "markdown",
   "metadata": {
    "hidden": true,
    "id": "0qfmwr8lG3S8"
   },
   "source": [
    "## Data Download\n",
    "\n",
    "The next cell will download and extract CIFAR-10 into `datasets/cifar10/`. The CIFAR-10 dataset consists of 60,000 32x32 color images in 10 classes, with 6,000 images per class. There are 50,000 training images and 10,000 test images. The dataset is divided into five training batches and one test batch, each with 10,000 images. The test batch contains exactly 1,000 randomly-selected images from each class.\n"
   ]
  },
  {
   "cell_type": "code",
   "execution_count": 3,
   "metadata": {
    "ExecuteTime": {
     "end_time": "2022-10-29T15:21:01.686261Z",
     "start_time": "2022-10-29T15:21:01.675796Z"
    },
    "colab": {
     "base_uri": "https://localhost:8080/"
    },
    "hidden": true,
    "id": "eBbBnxJpET8L",
    "outputId": "19b0cf20-9282-492c-cad8-8d959975a10e"
   },
   "outputs": [
    {
     "name": "stdout",
     "output_type": "stream",
     "text": [
      "Data has apparently already been downloaded and unpacked.\n",
      "If not, delete the dataset folder and try again.\n"
     ]
    }
   ],
   "source": [
    "# this cell will download the data if it does not exists\n",
    "URL = \"https://www.cs.toronto.edu/~kriz/cifar-10-python.tar.gz\"\n",
    "PATH = 'datasets/cifar10/' # the script will create required directories\n",
    "maybe_download_and_extract(URL, PATH) "
   ]
  },
  {
   "cell_type": "markdown",
   "metadata": {
    "hidden": true,
    "id": "AIyo61vC-Dmv"
   },
   "source": [
    "## Data Preprocessing Part 1"
   ]
  },
  {
   "cell_type": "markdown",
   "metadata": {
    "hidden": true,
    "id": "ersTr2wB-RAd"
   },
   "source": [
    "We have included several image processing functions. Notice the following in particular: we created an additional validation dataset you need to use for hyperparameter optimization."
   ]
  },
  {
   "cell_type": "code",
   "execution_count": 4,
   "metadata": {
    "ExecuteTime": {
     "end_time": "2022-10-29T15:21:05.097768Z",
     "start_time": "2022-10-29T15:21:03.341893Z"
    },
    "hidden": true,
    "id": "NFUWV8LnET8M"
   },
   "outputs": [],
   "source": [
    "CIFAR10_PATH = os.path.join(PATH, 'cifar-10-batches-py')\n",
    "X_train, y_train, X_test, y_test = load(CIFAR10_PATH) # load the entire data\n",
    "\n",
    "# taking only two classes from the dataset\n",
    "X_train = X_train[np.logical_or(y_train == 0, y_train == 1)]\n",
    "y_train = y_train[np.logical_or(y_train == 0, y_train == 1)]\n",
    "X_test = X_test[np.logical_or(y_test == 0, y_test == 1)]\n",
    "y_test = y_test[np.logical_or(y_test == 0, y_test == 1)]\n",
    "\n",
    "# define a splitting for the data\n",
    "num_training = 10000\n",
    "num_validation = 1000\n",
    "num_testing = 1000\n",
    "\n",
    "mask = range(num_training)\n",
    "X_train = X_train[mask]\n",
    "y_train = y_train[mask]\n",
    "# portion from the test dataset a validation dataset for hyperparameter optimization\n",
    "mask = range(num_validation)\n",
    "X_val = X_test[mask]\n",
    "y_val = y_test[mask]\n",
    "# test dataset, without overlap with train/validation\n",
    "mask = range(num_validation, num_validation+num_testing)\n",
    "X_test = X_test[mask]\n",
    "y_test = y_test[mask]\n",
    "\n",
    "# float64\n",
    "X_train = X_train.astype(np.float64)\n",
    "X_val = X_val.astype(np.float64)\n",
    "X_test = X_test.astype(np.float64)\n",
    "\n",
    "classes = ('plane', 'car')"
   ]
  },
  {
   "cell_type": "code",
   "execution_count": 5,
   "metadata": {
    "ExecuteTime": {
     "end_time": "2022-10-29T15:21:05.911006Z",
     "start_time": "2022-10-29T15:21:05.755837Z"
    },
    "colab": {
     "base_uri": "https://localhost:8080/",
     "height": 151
    },
    "hidden": true,
    "id": "Daycmt2x5cVS",
    "outputId": "fe9e8a0d-66eb-4fa3-9196-462a2da8c180"
   },
   "outputs": [
    {
     "name": "stdout",
     "output_type": "stream",
     "text": [
      "      car\t    plane\t      car\t      car\n"
     ]
    },
    {
     "data": {
      "image/png": "[encoded data removed]",
      "text/plain": [
       "<Figure size 500x300 with 1 Axes>"
      ]
     },
     "metadata": {},
     "output_type": "display_data"
    }
   ],
   "source": [
    "def get_batch(X, y, n=1000):\n",
    "    rand_items = np.random.randint(0, X.shape[0], size=n)\n",
    "    images = X[rand_items]\n",
    "    labels = y[rand_items]\n",
    "    return images, labels\n",
    "\n",
    "def make_random_grid(x, y, n=4, convert_to_image=True, random_flag=True):\n",
    "    if random_flag:\n",
    "        rand_items = np.random.randint(0, x.shape[0], size=n)\n",
    "    else:\n",
    "        rand_items = np.arange(0, x.shape[0])\n",
    "    images = x[rand_items]\n",
    "    labels = y[rand_items]\n",
    "    if convert_to_image:\n",
    "        grid = np.hstack(np.array([np.asarray((vec_2_img(i) + mean_image), dtype=np.int64) for i in images]))\n",
    "    else:\n",
    "        grid = np.hstack(np.array([np.asarray(i, dtype=np.int64) for i in images]))\n",
    "    print('\\t'.join('%9s' % classes[labels[j]] for j in range(n)))\n",
    "    return grid\n",
    "\n",
    "def vec_2_img(x):\n",
    "    x = np.reshape(x[:-1], (32, 32, 3))\n",
    "    return x\n",
    "\n",
    "X_batch, y_batch = get_batch(X_test, y_test, 100)\n",
    "plt.imshow(make_random_grid(X_batch, y_batch, n=4, convert_to_image=False));"
   ]
  },
  {
   "cell_type": "markdown",
   "metadata": {
    "hidden": true,
    "id": "RhismcUO9-xk"
   },
   "source": [
    "## Data Preprocessing Part 2\n",
    "\n",
    "We have included several image processing functions. Notice the following in particular: We subtracted the mean from all the images in order to ignore illumination conditions while keeping the content of the image. Next, we flattened the images from a tensor of shape (32x32x3) to a vector with 3072 features (pixel values) so we would be able to use a simple matrix multiplication. Finally, we concatenated each image vector with an additional feature to account for the bias. This is known as the bias trick. \n",
    "\n",
    "Make sure you understand this image processing pipeline before diving into the rest of the code."
   ]
  },
  {
   "cell_type": "code",
   "execution_count": 6,
   "metadata": {
    "ExecuteTime": {
     "end_time": "2022-10-29T15:21:06.836277Z",
     "start_time": "2022-10-29T15:21:06.555473Z"
    },
    "colab": {
     "base_uri": "https://localhost:8080/"
    },
    "hidden": true,
    "id": "C9YCYi5KZhXD",
    "outputId": "d0d032ee-5e2d-498f-b907-3ecc1fd895ef"
   },
   "outputs": [
    {
     "name": "stdout",
     "output_type": "stream",
     "text": [
      "Shape of Training Set: (10000, 3073)\n",
      "Shape of Validation Set: (1000, 3073)\n",
      "Shape of Test Set: (1000, 3073)\n"
     ]
    }
   ],
   "source": [
    "# Final data preprocessing\n",
    "# subtract the mean from all the images in the batch\n",
    "mean_image = np.mean(X_train, axis=0)\n",
    "X_train -= mean_image\n",
    "X_val -= mean_image\n",
    "X_test -= mean_image\n",
    "\n",
    "# flatten all the images in the batch (make sure you understand why this is needed)\n",
    "X_train = np.reshape(X_train, newshape=(X_train.shape[0], -1))\n",
    "X_val = np.reshape(X_val, newshape=(X_val.shape[0], -1)) \n",
    "X_test = np.reshape(X_test, newshape=(X_test.shape[0], -1)) \n",
    "\n",
    "# add a bias term to all images in the batch\n",
    "X_train = np.hstack([X_train, np.ones((X_train.shape[0], 1))]) \n",
    "X_val = np.hstack([X_val, np.ones((X_val.shape[0], 1))]) \n",
    "X_test = np.hstack([X_test, np.ones((X_test.shape[0], 1))]) \n",
    "\n",
    "print(f\"Shape of Training Set: {X_train.shape}\")\n",
    "print(f\"Shape of Validation Set: {X_val.shape}\")\n",
    "print(f\"Shape of Test Set: {X_test.shape}\")"
   ]
  },
  {
   "cell_type": "markdown",
   "metadata": {
    "id": "1BX0bVW0ET8N"
   },
   "source": [
    "# Linear classifier: mapping images to scores\n",
    "\n",
    "During this exercise, we will maintain a python class with basic functionality (such as training the model). the linear classifiers we will build (perceptron, logistic regression) will inherit some functionality from that class and will change several functions (such as the loss function, for example). Read the code in the next cell and make sure you understand it. You might also find this [short classes in python tutorial](https://www.hackerearth.com/practice/python/object-oriented-programming/classes-and-objects-i/tutorial/) useful.\n"
   ]
  },
  {
   "cell_type": "code",
   "execution_count": 80,
   "metadata": {
    "ExecuteTime": {
     "end_time": "2022-10-29T15:21:15.523094Z",
     "start_time": "2022-10-29T15:21:15.502785Z"
    },
    "id": "FXAVk7l6LVty"
   },
   "outputs": [],
   "source": [
    "class LinearClassifier(object):\n",
    "    def __init__(self, X, y):\n",
    "        \"\"\"\n",
    "        Class constructor. Use this method to initiate the parameters of\n",
    "        your model (W)\n",
    "        *** Subclasses will override this. ***\n",
    "\n",
    "        Inputs:\n",
    "        - X: array of data\n",
    "        - y: 1-dimensional array of length N with binary labels\n",
    "\n",
    "        This function has no return value\n",
    "\n",
    "        \"\"\"\n",
    "        pass\n",
    "\n",
    "    def predict(self, X):\n",
    "        \"\"\"\n",
    "        Use the weight of the classifier to predict a label. \n",
    "        *** Subclasses will override this. ***\n",
    "\n",
    "        Input: 2D array of size (num_instances, num_features).\n",
    "        Output: 1D array of class predictions (num_instances, 1). \n",
    "        \"\"\"\n",
    "        pass\n",
    "\n",
    "    def calc_accuracy(self, X, y):\n",
    "        \"\"\"\n",
    "        Calculate the accuracy on a dataset as the percentage of instances \n",
    "        that are classified correctly. \n",
    "\n",
    "        Inputs:\n",
    "        - W: array of weights\n",
    "        - X: array of data\n",
    "        - y: 1-dimensional array of length N with binary labels\n",
    "        Returns:\n",
    "        - accuracy as a single float\n",
    "        \"\"\"\n",
    "\n",
    "        accuracy = 0.0\n",
    "        ###########################################################################\n",
    "        # TODO: Implement this method.                                            #\n",
    "        ###########################################################################\n",
    "        #                          START OF YOUR CODE                             #\n",
    "        ###########################################################################\n",
    "        success = 0\n",
    "        n_samples = X.shape[0]\n",
    "        predictions = self.predict(X)\n",
    "        for i in range(n_samples):\n",
    "            success += bool(y[i] == predictions[i])\n",
    "        accuracy = (success / n_samples) * 100.\n",
    "        ###########################################################################\n",
    "        #                           END OF YOUR CODE                              #\n",
    "        ###########################################################################\n",
    "        return accuracy\n",
    "\n",
    "\n",
    "    def train(self, X, y, learning_rate=1e-3, num_iters=100, batch_size=200, verbose=False):\n",
    "        #########################################################################\n",
    "        # TODO:                                                                 #\n",
    "        # Sample batch_size elements from the training data and their           #\n",
    "        # corresponding labels to use in every iteration.                       #\n",
    "        # Store the data in X_batch and their corresponding labels in           #\n",
    "        # y_batch                                                               #\n",
    "        #                                                                       #\n",
    "        # Hint: Use np.random.choice to generate indices. Sampling with         #\n",
    "        # replacement is faster than sampling without replacement.              #\n",
    "        #                                                                       #\n",
    "        # Next, calculate the loss and gradient and update the weights using    #\n",
    "        # the learning rate. Use the loss_history array to save the loss on     #\n",
    "        # iteration to visualize the loss.                                      #\n",
    "        #########################################################################\n",
    "        n_instances = X.shape[0]\n",
    "        n_classes = np.max(y) + 1 # assume y takes values 0...K-1 where K is number of classes\n",
    "        if self.W is None:\n",
    "            self.W = np.random.randn(n_instances, n_classes) * 0.001\n",
    "\n",
    "        loss_history = []\n",
    "        loss = 0.0\n",
    "        for i in range(num_iters):\n",
    "            X_batch = None\n",
    "            y_batch = None\n",
    "            ###########################################################################\n",
    "            # Create X_batch and y_batch. Call the loss method to get the loss value  # \n",
    "            # and grad (the loss function is being override, see the loss             #\n",
    "            # function return values).                                                #\n",
    "            # Finally, append each of the loss values created in each iteration       #\n",
    "            # to loss_history.                                                        #\n",
    "            ###########################################################################\n",
    "            #                          START OF YOUR CODE                             #\n",
    "            ###########################################################################\n",
    "            batch = np.random.choice(n_instances, batch_size, replace = True)\n",
    "            X_batch = X[batch, :]\n",
    "            y_batch = y[batch]\n",
    "            loss, grad = self.loss(X_batch, y_batch)\n",
    "            loss_history.append(loss)\n",
    "            ###########################################################################\n",
    "            #                           END OF YOUR CODE                              #\n",
    "            ###########################################################################\n",
    "            # TODO:                                                                   #\n",
    "            # Perform parameter update                                                #\n",
    "            # Update the weights using the gradient and the learning rate.            #\n",
    "            ###########################################################################\n",
    "            #                          START OF YOUR CODE                             #                                                         #\n",
    "            ###########################################################################\n",
    "            self.W -= (grad * learning_rate)\n",
    "            ###########################################################################\n",
    "            #                       END OF YOUR CODE                                  #\n",
    "            ###########################################################################\n",
    "\n",
    "            if verbose and i % 100 == 0:\n",
    "                print ('iteration %d / %d: loss %f' % (i, num_iters, loss))\n",
    "\n",
    "        return loss_history\n",
    "\n",
    "\n",
    "    def loss(self, X, y):\n",
    "        \"\"\"\n",
    "        Compute the loss function and its derivative. \n",
    "        Subclasses will override this.\n",
    "        Inputs:\n",
    "        - X_batch: A numpy array of shape (N, D) containing a minibatch of N\n",
    "          data points; each point has dimension D.\n",
    "        - y_batch: A numpy array of shape (N,) containing labels for the minibatch.\n",
    "        Returns: A tuple containing:\n",
    "        - loss as a single float\n",
    "        - gradient with respect to self.W; an array of the same shape as W\n",
    "        \"\"\"\n",
    "        pass"
   ]
  },
  {
   "cell_type": "markdown",
   "metadata": {
    "id": "p9WqAhlmLMGU"
   },
   "source": [
    "## Linear perceptron\n",
    "Our first linear classifier will include a linear function that maps images to scores:\n",
    "\n",
    "$$\n",
    "f(x_i; W, b) = W\\cdot x_i + b\n",
    "$$\n",
    "\n",
    "As you learned in class, this linear classifier takes an input image $x_i$ and outputs a class score. Your goal is to **learn** the parameters $W$ and $b$ to best classify the images according to the provided labels. The linear perceptron is set up so that the perceptron learn to map the correct class for each image such that it will have a score higher than the incorrect class.\n",
    "\n",
    "Read the next code cell. The constructor of the `LinearPerceptron` class takes as input the dataset and labels in order to create appropriate parameters. Notice we are using the bias trick and only use the matrix `w` for convenience. Since we already have a (random) model, we can start predicting classes on images. Complete the method `predict` in the `LinearPerceptron` class. **(5 Points)**"
   ]
  },
  {
   "cell_type": "code",
   "execution_count": 81,
   "metadata": {
    "ExecuteTime": {
     "end_time": "2022-10-29T15:21:38.587623Z",
     "start_time": "2022-10-29T15:21:38.576532Z"
    },
    "id": "cfLTGvYILcJw"
   },
   "outputs": [],
   "source": [
    "class LinearPerceptron(LinearClassifier):\n",
    "    # Classifier that uses Perceptron loss\n",
    "\n",
    "    def __init__(self, X, y):\n",
    "        ###########################################################################\n",
    "        # Initiate the parameters of your model.                                  #\n",
    "        # You can assume y takes values 0...K-1 where K is number of classes      #\n",
    "        ###########################################################################\n",
    "        #                          START OF YOUR CODE                             # \n",
    "        ###########################################################################\n",
    "        n_features = X.shape[1]\n",
    "        self.W = np.random.randn(n_features, 1) * 0.0001\n",
    "        ###########################################################################\n",
    "        #                           END OF YOUR CODE                              #\n",
    "        ###########################################################################\n",
    "\n",
    "\n",
    "    def predict(self, X):\n",
    "        y_pred = None\n",
    "        ###########################################################################\n",
    "        # Implement this method.                                                  #\n",
    "        ###########################################################################\n",
    "        #                          START OF YOUR CODE                             # \n",
    "        ###########################################################################\n",
    "        Z = X.dot(self.W)\n",
    "        y_pred = np.where(Z > 0, 1, 0).flatten()\n",
    "        ###########################################################################\n",
    "        #                           END OF YOUR CODE                              #\n",
    "        ###########################################################################\n",
    "        return y_pred\n",
    "\n",
    "\n",
    "    def loss(self, X_batch, y_batch):\n",
    "        # perceptron_loss_vectorized will be implemented later\n",
    "        return perceptron_loss_vectorized(self.W, X_batch, y_batch)"
   ]
  },
  {
   "cell_type": "code",
   "execution_count": 82,
   "metadata": {
    "ExecuteTime": {
     "end_time": "2022-10-29T15:21:40.039042Z",
     "start_time": "2022-10-29T15:21:39.994118Z"
    },
    "id": "2cb3cgLeET8N"
   },
   "outputs": [],
   "source": [
    "classifier = LinearPerceptron(X_train, y_train)\n",
    "y_pred = classifier.predict(X_test)"
   ]
  },
  {
   "cell_type": "code",
   "execution_count": 83,
   "metadata": {
    "ExecuteTime": {
     "end_time": "2022-10-29T15:21:41.067042Z",
     "start_time": "2022-10-29T15:21:40.894184Z"
    },
    "colab": {
     "base_uri": "https://localhost:8080/",
     "height": 151
    },
    "id": "w2Cv7adkET8N",
    "outputId": "752d16c3-3e78-4b87-e410-62be8eaf5035"
   },
   "outputs": [
    {
     "name": "stdout",
     "output_type": "stream",
     "text": [
      "    plane\t      car\t    plane\t      car\n"
     ]
    },
    {
     "data": {
      "image/png": "[encoded data removed]",
      "text/plain": [
       "<Figure size 500x300 with 1 Axes>"
      ]
     },
     "metadata": {},
     "output_type": "display_data"
    }
   ],
   "source": [
    "X_batch, y_batch = get_batch(X_train, y_train, 4)\n",
    "plt.imshow(make_random_grid(X_batch, y_batch, convert_to_image=True))\n",
    "plt.show()"
   ]
  },
  {
   "cell_type": "code",
   "execution_count": 84,
   "metadata": {
    "ExecuteTime": {
     "end_time": "2022-10-29T15:21:42.911853Z",
     "start_time": "2022-10-29T15:21:42.897375Z"
    },
    "colab": {
     "base_uri": "https://localhost:8080/"
    },
    "id": "BKUh3OFFET8N",
    "outputId": "2a295c68-b089-4848-e533-966c764324cc"
   },
   "outputs": [
    {
     "name": "stdout",
     "output_type": "stream",
     "text": [
      "      car       car       car       car\n"
     ]
    }
   ],
   "source": [
    "# predictions\n",
    "print(' '.join('%9s' % classes[y_pred[j]] for j in range(4)))"
   ]
  },
  {
   "cell_type": "markdown",
   "metadata": {
    "id": "N-1RXh-lET8O"
   },
   "source": [
    "## Evaluation \n",
    "\n",
    "Complete the class method `calc_accuracy`. **(5 Points)**"
   ]
  },
  {
   "cell_type": "code",
   "execution_count": 85,
   "metadata": {
    "ExecuteTime": {
     "end_time": "2022-10-29T15:23:38.099891Z",
     "start_time": "2022-10-29T15:23:38.029739Z"
    },
    "colab": {
     "base_uri": "https://localhost:8080/"
    },
    "id": "IiSJ5-wvET8O",
    "outputId": "2fffb0c5-551f-4ae5-e0c4-3082d1a86338"
   },
   "outputs": [
    {
     "name": "stdout",
     "output_type": "stream",
     "text": [
      "model accuracy:  38.629999999999995\n"
     ]
    }
   ],
   "source": [
    "print(\"model accuracy: \", classifier.calc_accuracy(X_train, y_train))"
   ]
  },
  {
   "cell_type": "markdown",
   "metadata": {
    "id": "fAFp3MOYET8O"
   },
   "source": [
    "**Explain why the accuracy on the training dataset is around 50% (remember, the model is not trained yet). **(5 Points)**** \n",
    "\n",
    "Answer: The model is currently choosing randomly between two classes so the chance to have each class is ~100/#classes."
   ]
  },
  {
   "cell_type": "markdown",
   "metadata": {
    "id": "kuFKR-UKET8O"
   },
   "source": [
    "## Perceptron loss\n",
    "\n",
    "Your code for this section will all be written in the next cell. In this section, we write and test code outside the classes for convenience. Notice the loss method for each class is just a call for the loss function written in the next cell. Once you are finished with implementation, everything should work.\n",
    "\n",
    "First, complete the function `perceptron_loss_naive`. This function takes as input the weights, data, labels and outputs the calculated loss as a single number and the gradients with respect to W.  **(15 points)**"
   ]
  },
  {
   "cell_type": "code",
   "execution_count": 86,
   "metadata": {
    "ExecuteTime": {
     "end_time": "2022-10-29T15:23:57.192000Z",
     "start_time": "2022-10-29T15:23:57.177408Z"
    },
    "id": "McEGmknNYFXC"
   },
   "outputs": [],
   "source": [
    "def perceptron_loss_naive(W, X, y):\n",
    "    \"\"\"\n",
    "    Structured perceptron loss function, naive implementation (with loops)\n",
    "    Inputs:\n",
    "    - W: array of weights\n",
    "    - X: array of data\n",
    "    - y: 1-dimensional array of length N with labels 0...K-1, for K classes\n",
    "    Returns:\n",
    "    a tuple of:\n",
    "    - loss as single float\n",
    "    - gradient with respect to weights W; an array of same shape as W\n",
    "    \"\"\"\n",
    "    loss = 0.0\n",
    "    dW = np.zeros(W.shape) # initialize the gradient as zero\n",
    "    #############################################################################\n",
    "    # Compute the perceptron loss as learned in class. Start by iterating over  #\n",
    "    # over all instances and calculate the score and true score for each.       #\n",
    "    # Now, for each class determine if the prediction is correct and update the #\n",
    "    # loss over all mistakes.                                                   #\n",
    "    # Compute the gradient of the loss function and store it as dW.             #\n",
    "    # Rather that first computing the loss and then computing the derivative,   #\n",
    "    # it may be simpler to compute the derivative at the same time that the     #\n",
    "    # loss is being computed.                                                   #\n",
    "    #############################################################################\n",
    "    n_classes = np.amax(y) + 1\n",
    "    n_examples = X.shape[0]\n",
    "    \n",
    "    T = np.where(y == 0, -1, 1)\n",
    "    for i in range(n_examples):\n",
    "        z_i = X[i].dot(W)\n",
    "        t_i = T[i]\n",
    "        tz_i = t_i * z_i\n",
    "        \n",
    "        loss += max(0, (-1.) * tz_i)\n",
    "        \n",
    "        # update derivative\n",
    "        xt_i = X[i].T * t_i\n",
    "        if tz_i < 0:\n",
    "            dW[:, 0] -= xt_i\n",
    "    \n",
    "    loss /= n_examples\n",
    "    dW /= n_examples\n",
    "    #############################################################################\n",
    "    #                             END OF YOUR CODE                              #\n",
    "    #############################################################################\n",
    "    return loss, dW"
   ]
  },
  {
   "cell_type": "code",
   "execution_count": 87,
   "metadata": {
    "ExecuteTime": {
     "end_time": "2022-10-29T15:23:58.297179Z",
     "start_time": "2022-10-29T15:23:58.278906Z"
    },
    "id": "tGcQrlGJET8O"
   },
   "outputs": [],
   "source": [
    "W = np.random.randn(3073, 1) * 0.0001"
   ]
  },
  {
   "cell_type": "code",
   "execution_count": 88,
   "metadata": {
    "ExecuteTime": {
     "end_time": "2022-10-29T15:23:59.483591Z",
     "start_time": "2022-10-29T15:23:59.450741Z"
    },
    "colab": {
     "base_uri": "https://localhost:8080/"
    },
    "id": "UKmH67DEET8O",
    "outputId": "fe871e58-b641-40d3-accd-7e1cd4d0dc1b"
   },
   "outputs": [
    {
     "name": "stdout",
     "output_type": "stream",
     "text": [
      "loss: 0.099395\n",
      "CPU times: user 19.8 ms, sys: 1.44 ms, total: 21.2 ms\n",
      "Wall time: 20 ms\n"
     ]
    }
   ],
   "source": [
    "%%time\n",
    "loss_naive, _ = perceptron_loss_naive(W, X_val, y_val)\n",
    "print ('loss: %f' % (loss_naive))"
   ]
  },
  {
   "cell_type": "markdown",
   "metadata": {
    "id": "Z-Hh-R7bET8P"
   },
   "source": [
    "Once your code works, complete the function `perceptron_loss_vectorized` and compare the results of the two functions using the cell below. **(15 points)**"
   ]
  },
  {
   "cell_type": "code",
   "execution_count": 89,
   "metadata": {
    "ExecuteTime": {
     "end_time": "2022-10-29T15:24:11.592697Z",
     "start_time": "2022-10-29T15:24:11.576004Z"
    },
    "id": "w1HLNSCWYIRK"
   },
   "outputs": [],
   "source": [
    "def perceptron_loss_vectorized(W, X, y):\n",
    "    \"\"\"\n",
    "    Vectorized version of perceptron_loss_naive. instead of loops, should use \n",
    "    numpy vectorization.\n",
    "\n",
    "    Inputs and outputs are the same as perceptron_loss_naive.\n",
    "    \"\"\"\n",
    "    loss = 0.0\n",
    "    dW = np.zeros(W.shape) # initialize the gradient as zero\n",
    "    #############################################################################\n",
    "    # Implement a vectorized version of the perceptron loss, storing the       #\n",
    "    # result in loss and the gradient in dW                                     #\n",
    "    #############################################################################\n",
    "    n_examples = X.shape[0]\n",
    "    \n",
    "    T = np.where(y == 0, -1, 1)\n",
    "    Z = X.dot(W.flatten())\n",
    "    TZ = T * Z\n",
    "\n",
    "    loss = np.sum(np.fmax(0, (-1.) * TZ))\n",
    "\n",
    "    mask = np.zeros(Z.shape)\n",
    "    mask[TZ < 0] = 1\n",
    "    \n",
    "    # derivative\n",
    "    XT = X.T.dot(T.reshape(n_examples, 1))\n",
    "    dw = mask * T\n",
    "    dW = (-1.) * X.T.dot(dw.reshape(n_examples, 1))\n",
    "    \n",
    "    loss /= n_examples\n",
    "    dW /= n_examples\n",
    "    #############################################################################\n",
    "    #                             END OF YOUR CODE                              #\n",
    "    #############################################################################\n",
    "    return loss, dW"
   ]
  },
  {
   "cell_type": "code",
   "execution_count": 90,
   "metadata": {
    "ExecuteTime": {
     "end_time": "2022-10-29T15:24:12.996442Z",
     "start_time": "2022-10-29T15:24:12.949777Z"
    },
    "colab": {
     "base_uri": "https://localhost:8080/"
    },
    "id": "_puMMu8vET8P",
    "outputId": "910a25b9-0067-4c02-fb5d-5b11137458ec",
    "scrolled": true
   },
   "outputs": [
    {
     "name": "stdout",
     "output_type": "stream",
     "text": [
      "loss: 0.099395\n",
      "CPU times: user 23.3 ms, sys: 3.9 ms, total: 27.2 ms\n",
      "Wall time: 3.9 ms\n"
     ]
    }
   ],
   "source": [
    "%%time\n",
    "loss_vectorized, _ = perceptron_loss_vectorized(W, X_val, y_val)\n",
    "print ('loss: %f' % (loss_vectorized))"
   ]
  },
  {
   "cell_type": "markdown",
   "metadata": {
    "id": "E6oNHXGHET8P"
   },
   "source": [
    "You might not see big changes in time due to other computing factors. In big enough datasets it would be crucial to use the vectorized version.\n",
    "\n",
    "We have obtained an efficient function for loss and gradient calculation and we can now train our network. Complete the function `train` in the `LinearClassifier` class. (**15 points**)"
   ]
  },
  {
   "cell_type": "code",
   "execution_count": 91,
   "metadata": {
    "ExecuteTime": {
     "end_time": "2022-10-29T15:24:38.956156Z",
     "start_time": "2022-10-29T15:24:31.984850Z"
    },
    "colab": {
     "base_uri": "https://localhost:8080/"
    },
    "id": "_QtvCxghET8P",
    "outputId": "1aaeba56-864b-442f-ef6c-a3e0e9fe7c08"
   },
   "outputs": [
    {
     "name": "stdout",
     "output_type": "stream",
     "text": [
      "iteration 0 / 1500: loss 0.137300\n",
      "iteration 100 / 1500: loss 0.027400\n",
      "iteration 200 / 1500: loss 0.018975\n",
      "iteration 300 / 1500: loss 0.018533\n",
      "iteration 400 / 1500: loss 0.024383\n",
      "iteration 500 / 1500: loss 0.019812\n",
      "iteration 600 / 1500: loss 0.013467\n",
      "iteration 700 / 1500: loss 0.012540\n",
      "iteration 800 / 1500: loss 0.011798\n",
      "iteration 900 / 1500: loss 0.010829\n",
      "iteration 1000 / 1500: loss 0.013806\n",
      "iteration 1100 / 1500: loss 0.017337\n",
      "iteration 1200 / 1500: loss 0.012851\n",
      "iteration 1300 / 1500: loss 0.013982\n",
      "iteration 1400 / 1500: loss 0.012599\n",
      "CPU times: user 13.5 s, sys: 4.03 s, total: 17.5 s\n",
      "Wall time: 2.23 s\n"
     ]
    }
   ],
   "source": [
    "%%time\n",
    "perceptron = LinearPerceptron(X_train, y_train)\n",
    "loss_history = perceptron.train(X_train, y_train, learning_rate=1e-7, \n",
    "                                num_iters=1500, verbose=True)"
   ]
  },
  {
   "cell_type": "code",
   "execution_count": 92,
   "metadata": {
    "ExecuteTime": {
     "end_time": "2022-10-29T15:24:39.656566Z",
     "start_time": "2022-10-29T15:24:39.516553Z"
    },
    "colab": {
     "base_uri": "https://localhost:8080/",
     "height": 279
    },
    "id": "_jzvksCFET8P",
    "outputId": "35a93ae5-393f-43ba-ce4c-a0ade49eb1e9",
    "scrolled": false
   },
   "outputs": [
    {
     "data": {
      "image/png": "[encoded data removed]",
      "text/plain": [
       "<Figure size 500x300 with 1 Axes>"
      ]
     },
     "metadata": {},
     "output_type": "display_data"
    }
   ],
   "source": [
    "plt.plot(loss_history)\n",
    "plt.xlabel('Iteration number')\n",
    "plt.ylabel('Loss value')\n",
    "plt.show()"
   ]
  },
  {
   "cell_type": "code",
   "execution_count": 93,
   "metadata": {
    "ExecuteTime": {
     "end_time": "2022-10-29T15:24:40.310924Z",
     "start_time": "2022-10-29T15:24:40.267510Z"
    },
    "colab": {
     "base_uri": "https://localhost:8080/"
    },
    "id": "eFNormxyET8P",
    "outputId": "7aa6b408-7826-4d59-a99c-5f40725a0b1f"
   },
   "outputs": [
    {
     "name": "stdout",
     "output_type": "stream",
     "text": [
      "Training accuracy:  78.43\n",
      "Testing accuracy:  76.6\n"
     ]
    }
   ],
   "source": [
    "print(\"Training accuracy: \", perceptron.calc_accuracy(X_train, y_train))\n",
    "print(\"Testing accuracy: \", perceptron.calc_accuracy(X_test, y_test))"
   ]
  },
  {
   "cell_type": "markdown",
   "metadata": {
    "id": "R277VSx8ET8P"
   },
   "source": [
    "## Hyperparameter optimization\n",
    "\n",
    "Your model should have improved from 50% accuracy to ~75% accuracy in a matter of seconds. Now, use the validation set to tune hyperparameters by training different models (using the training dataset) and evaluating the performance using the validation dataset. Save the results in a dictionary mapping tuples of the form `(learning_rate, batch_size)` to tuples of the form `(training_accuracy, validation_accuracy)`. Finally, you should evaluate the best model on the testing dataset. \n",
    "\n",
    "Use a small value for the number of iterations as you develop your code. Once you are confident that everything works, run it again for more iterations. **(5 points)**\n"
   ]
  },
  {
   "cell_type": "code",
   "execution_count": 94,
   "metadata": {
    "ExecuteTime": {
     "end_time": "2022-10-29T15:28:28.780040Z",
     "start_time": "2022-10-29T15:27:34.777137Z"
    },
    "colab": {
     "base_uri": "https://localhost:8080/"
    },
    "id": "m_g5iSBQET8Q",
    "outputId": "95953a49-5ff4-456e-db93-734fad51b975"
   },
   "outputs": [
    {
     "name": "stdout",
     "output_type": "stream",
     "text": [
      "iteration 0 / 10000: loss 0.308734\n",
      "iteration 100 / 10000: loss 0.841694\n",
      "iteration 200 / 10000: loss 0.012285\n",
      "iteration 300 / 10000: loss 0.000000\n",
      "iteration 400 / 10000: loss 0.000000\n",
      "iteration 500 / 10000: loss 0.000000\n",
      "iteration 600 / 10000: loss 0.000000\n",
      "iteration 700 / 10000: loss 0.000000\n",
      "iteration 800 / 10000: loss 0.172894\n",
      "iteration 900 / 10000: loss 1.001076\n",
      "iteration 1000 / 10000: loss 0.128092\n",
      "iteration 1100 / 10000: loss 0.000000\n",
      "iteration 1200 / 10000: loss 0.187753\n",
      "iteration 1300 / 10000: loss 1.153906\n",
      "iteration 1400 / 10000: loss 0.120319\n",
      "iteration 1500 / 10000: loss 0.240446\n",
      "iteration 1600 / 10000: loss 0.000000\n",
      "iteration 1700 / 10000: loss 0.000000\n",
      "iteration 1800 / 10000: loss 0.000000\n",
      "iteration 1900 / 10000: loss 0.000000\n",
      "iteration 2000 / 10000: loss 0.000000\n",
      "iteration 2100 / 10000: loss 1.736042\n",
      "iteration 2200 / 10000: loss 0.000000\n",
      "iteration 2300 / 10000: loss 0.000000\n",
      "iteration 2400 / 10000: loss 0.000000\n",
      "iteration 2500 / 10000: loss 0.000000\n",
      "iteration 2600 / 10000: loss 0.000000\n",
      "iteration 2700 / 10000: loss 0.000000\n",
      "iteration 2800 / 10000: loss 0.000000\n",
      "iteration 2900 / 10000: loss 0.000000\n",
      "iteration 3000 / 10000: loss 0.261337\n",
      "iteration 3100 / 10000: loss 0.000000\n",
      "iteration 3200 / 10000: loss 0.000000\n",
      "iteration 3300 / 10000: loss 0.000000\n",
      "iteration 3400 / 10000: loss 0.000000\n",
      "iteration 3500 / 10000: loss 0.000000\n",
      "iteration 3600 / 10000: loss 0.000000\n",
      "iteration 3700 / 10000: loss 0.000000\n",
      "iteration 3800 / 10000: loss 0.608574\n",
      "iteration 3900 / 10000: loss 0.000000\n",
      "iteration 4000 / 10000: loss 0.000000\n",
      "iteration 4100 / 10000: loss 0.810863\n",
      "iteration 4200 / 10000: loss 0.000000\n",
      "iteration 4300 / 10000: loss 0.000000\n",
      "iteration 4400 / 10000: loss 0.000000\n",
      "iteration 4500 / 10000: loss 0.000000\n",
      "iteration 4600 / 10000: loss 0.000000\n",
      "iteration 4700 / 10000: loss 0.458843\n",
      "iteration 4800 / 10000: loss 0.000000\n",
      "iteration 4900 / 10000: loss 0.000000\n",
      "iteration 5000 / 10000: loss 0.000000\n",
      "iteration 5100 / 10000: loss 0.000000\n",
      "iteration 5200 / 10000: loss 0.000000\n",
      "iteration 5300 / 10000: loss 0.000000\n",
      "iteration 5400 / 10000: loss 0.887807\n",
      "iteration 5500 / 10000: loss 3.622502\n",
      "iteration 5600 / 10000: loss 0.352398\n",
      "iteration 5700 / 10000: loss 0.000000\n",
      "iteration 5800 / 10000: loss 0.175578\n",
      "iteration 5900 / 10000: loss 0.000000\n",
      "iteration 6000 / 10000: loss 0.335453\n",
      "iteration 6100 / 10000: loss 0.151825\n",
      "iteration 6200 / 10000: loss 0.000000\n",
      "iteration 6300 / 10000: loss 0.076148\n",
      "iteration 6400 / 10000: loss 0.000000\n",
      "iteration 6500 / 10000: loss 0.525260\n",
      "iteration 6600 / 10000: loss 0.000000\n",
      "iteration 6700 / 10000: loss 0.000000\n",
      "iteration 6800 / 10000: loss 0.000000\n",
      "iteration 6900 / 10000: loss 0.000000\n",
      "iteration 7000 / 10000: loss 0.000000\n",
      "iteration 7100 / 10000: loss 0.572110\n",
      "iteration 7200 / 10000: loss 0.000000\n",
      "iteration 7300 / 10000: loss 0.000000\n",
      "iteration 7400 / 10000: loss 1.338758\n",
      "iteration 7500 / 10000: loss 0.387074\n",
      "iteration 7600 / 10000: loss 0.000000\n",
      "iteration 7700 / 10000: loss 0.000000\n",
      "iteration 7800 / 10000: loss 0.000000\n",
      "iteration 7900 / 10000: loss 0.178878\n",
      "iteration 8000 / 10000: loss 0.570543\n",
      "iteration 8100 / 10000: loss 0.000000\n",
      "iteration 8200 / 10000: loss 0.000000\n",
      "iteration 8300 / 10000: loss 0.000000\n",
      "iteration 8400 / 10000: loss 0.000000\n",
      "iteration 8500 / 10000: loss 0.151523\n",
      "iteration 8600 / 10000: loss 0.000000\n",
      "iteration 8700 / 10000: loss 0.000000\n",
      "iteration 8800 / 10000: loss 0.000000\n",
      "iteration 8900 / 10000: loss 0.000000\n",
      "iteration 9000 / 10000: loss 0.000000\n",
      "iteration 9100 / 10000: loss 0.000000\n",
      "iteration 9200 / 10000: loss 0.146003\n",
      "iteration 9300 / 10000: loss 0.369557\n",
      "iteration 9400 / 10000: loss 0.000000\n",
      "iteration 9500 / 10000: loss 0.000000\n",
      "iteration 9600 / 10000: loss 0.176624\n",
      "iteration 9700 / 10000: loss 0.000000\n",
      "iteration 9800 / 10000: loss 0.000000\n",
      "iteration 9900 / 10000: loss 0.000000\n",
      "iteration 0 / 100: loss 0.279322\n",
      "iteration 0 / 50: loss 0.100237\n",
      "iteration 0 / 20: loss 0.106678\n",
      "iteration 0 / 10000: loss 0.000000\n",
      "iteration 100 / 10000: loss 0.000000\n",
      "iteration 200 / 10000: loss 0.000000\n",
      "iteration 300 / 10000: loss 0.000000\n",
      "iteration 400 / 10000: loss 0.000000\n",
      "iteration 500 / 10000: loss 0.000000\n",
      "iteration 600 / 10000: loss 0.000000\n",
      "iteration 700 / 10000: loss 0.000000\n",
      "iteration 800 / 10000: loss 0.000000\n",
      "iteration 900 / 10000: loss 0.000000\n",
      "iteration 1000 / 10000: loss 0.000000\n",
      "iteration 1100 / 10000: loss 0.000000\n",
      "iteration 1200 / 10000: loss 0.000000\n",
      "iteration 1300 / 10000: loss 42.797734\n",
      "iteration 1400 / 10000: loss 0.000000\n",
      "iteration 1500 / 10000: loss 70.110204\n",
      "iteration 1600 / 10000: loss 0.000000\n",
      "iteration 1700 / 10000: loss 0.000000\n",
      "iteration 1800 / 10000: loss 0.000000\n",
      "iteration 1900 / 10000: loss 0.000000\n",
      "iteration 2000 / 10000: loss 23.857547\n",
      "iteration 2100 / 10000: loss 0.000000\n",
      "iteration 2200 / 10000: loss 0.000000\n",
      "iteration 2300 / 10000: loss 0.000000\n",
      "iteration 2400 / 10000: loss 3.858960\n",
      "iteration 2500 / 10000: loss 0.000000\n",
      "iteration 2600 / 10000: loss 0.000000\n",
      "iteration 2700 / 10000: loss 0.000000\n",
      "iteration 2800 / 10000: loss 0.000000\n",
      "iteration 2900 / 10000: loss 3.716102\n",
      "iteration 3000 / 10000: loss 12.904219\n",
      "iteration 3100 / 10000: loss 0.000000\n",
      "iteration 3200 / 10000: loss 0.000000\n",
      "iteration 3300 / 10000: loss 0.000000\n",
      "iteration 3400 / 10000: loss 0.000000\n",
      "iteration 3500 / 10000: loss 0.000000\n",
      "iteration 3600 / 10000: loss 0.000000\n",
      "iteration 3700 / 10000: loss 0.000000\n",
      "iteration 3800 / 10000: loss 0.000000\n",
      "iteration 3900 / 10000: loss 0.000000\n",
      "iteration 4000 / 10000: loss 0.000000\n",
      "iteration 4100 / 10000: loss 3.762149\n",
      "iteration 4200 / 10000: loss 0.000000\n",
      "iteration 4300 / 10000: loss 17.326515\n",
      "iteration 4400 / 10000: loss 0.000000\n",
      "iteration 4500 / 10000: loss 0.000000\n",
      "iteration 4600 / 10000: loss 0.000000\n",
      "iteration 4700 / 10000: loss 0.000000\n",
      "iteration 4800 / 10000: loss 0.000000\n",
      "iteration 4900 / 10000: loss 0.000000\n",
      "iteration 5000 / 10000: loss 0.000000\n",
      "iteration 5100 / 10000: loss 0.000000\n",
      "iteration 5200 / 10000: loss 0.000000\n",
      "iteration 5300 / 10000: loss 52.084717\n",
      "iteration 5400 / 10000: loss 0.000000\n",
      "iteration 5500 / 10000: loss 0.000000\n",
      "iteration 5600 / 10000: loss 0.000000\n",
      "iteration 5700 / 10000: loss 0.000000\n",
      "iteration 5800 / 10000: loss 0.000000\n",
      "iteration 5900 / 10000: loss 84.704696\n",
      "iteration 6000 / 10000: loss 16.501038\n",
      "iteration 6100 / 10000: loss 37.630693\n",
      "iteration 6200 / 10000: loss 0.000000\n",
      "iteration 6300 / 10000: loss 0.000000\n",
      "iteration 6400 / 10000: loss 0.000000\n",
      "iteration 6500 / 10000: loss 0.000000\n",
      "iteration 6600 / 10000: loss 0.000000\n",
      "iteration 6700 / 10000: loss 26.644568\n",
      "iteration 6800 / 10000: loss 0.000000\n",
      "iteration 6900 / 10000: loss 0.000000\n",
      "iteration 7000 / 10000: loss 0.000000\n",
      "iteration 7100 / 10000: loss 0.000000\n",
      "iteration 7200 / 10000: loss 0.000000\n",
      "iteration 7300 / 10000: loss 13.147465\n",
      "iteration 7400 / 10000: loss 0.000000\n",
      "iteration 7500 / 10000: loss 0.000000\n",
      "iteration 7600 / 10000: loss 0.000000\n",
      "iteration 7700 / 10000: loss 67.801263\n",
      "iteration 7800 / 10000: loss 0.000000\n",
      "iteration 7900 / 10000: loss 0.000000\n",
      "iteration 8000 / 10000: loss 0.000000\n",
      "iteration 8100 / 10000: loss 86.465206\n",
      "iteration 8200 / 10000: loss 0.000000\n",
      "iteration 8300 / 10000: loss 0.000000\n",
      "iteration 8400 / 10000: loss 0.000000\n",
      "iteration 8500 / 10000: loss 7.272266\n",
      "iteration 8600 / 10000: loss 0.000000\n",
      "iteration 8700 / 10000: loss 66.703610\n",
      "iteration 8800 / 10000: loss 47.565183\n",
      "iteration 8900 / 10000: loss 0.000000\n",
      "iteration 9000 / 10000: loss 0.000000\n",
      "iteration 9100 / 10000: loss 0.000000\n",
      "iteration 9200 / 10000: loss 0.000000\n",
      "iteration 9300 / 10000: loss 0.000000\n",
      "iteration 9400 / 10000: loss 17.470297\n",
      "iteration 9500 / 10000: loss 0.000000\n",
      "iteration 9600 / 10000: loss 0.000000\n",
      "iteration 9700 / 10000: loss 68.286637\n",
      "iteration 9800 / 10000: loss 0.000000\n",
      "iteration 9900 / 10000: loss 0.000000\n",
      "iteration 0 / 100: loss 0.076571\n",
      "iteration 0 / 50: loss 0.087606\n",
      "iteration 0 / 20: loss 0.102342\n",
      "lr 1.000000e-07 batch_size 1.000000e+00 train accuracy: 77.280000 val accuracy: 78.300000\n",
      "lr 1.000000e-07 batch_size 1.000000e+02 train accuracy: 72.490000 val accuracy: 70.900000\n",
      "lr 1.000000e-07 batch_size 2.000000e+02 train accuracy: 69.750000 val accuracy: 68.100000\n",
      "lr 1.000000e-07 batch_size 5.000000e+02 train accuracy: 68.320000 val accuracy: 69.800000\n",
      "lr 5.000000e-06 batch_size 1.000000e+00 train accuracy: 78.000000 val accuracy: 78.700000\n",
      "lr 5.000000e-06 batch_size 1.000000e+02 train accuracy: 64.840000 val accuracy: 64.400000\n",
      "lr 5.000000e-06 batch_size 2.000000e+02 train accuracy: 72.110000 val accuracy: 73.300000\n",
      "lr 5.000000e-06 batch_size 5.000000e+02 train accuracy: 72.260000 val accuracy: 73.700000\n",
      "best validation accuracy achieved during cross-validation: 78.700000\n",
      "linear perceptron on raw pixels final test set accuracy: 79.100000\n"
     ]
    }
   ],
   "source": [
    "# You are encouraged to experiment with additional values\n",
    "learning_rates = [1e-7, 5e-6]\n",
    "batch_sizes = [1, 100, 200, 500]\n",
    "\n",
    "results = {}\n",
    "best_val = -1   # The highest validation accuracy that we have seen so far.\n",
    "best_perceptron = None # The LinearPerceptron object that achieved the highest validation rate.\n",
    "\n",
    "################################################################################\n",
    "#                            START OF YOUR CODE                                #\n",
    "################################################################################\n",
    "SAMPLES = X_train.shape[0]\n",
    "EPOCHS = 1\n",
    "iterations = lambda batch_size: int(EPOCHS * SAMPLES / batch_size)\n",
    "\n",
    "for learning_rate in learning_rates:\n",
    "    for batch_size in batch_sizes:\n",
    "        iters = iterations(batch_size)\n",
    "        model = LinearPerceptron(X_train, y_train)\n",
    "        _ = model.train(\n",
    "            X_train,\n",
    "            y_train,\n",
    "            learning_rate,\n",
    "            iters,\n",
    "            batch_size,\n",
    "            verbose=True\n",
    "        )\n",
    "        train_set_accuracy = model.calc_accuracy(X_train, y_train)\n",
    "        val_set_accuracy = model.calc_accuracy(X_val, y_val)\n",
    "\n",
    "        if val_set_accuracy > best_val:\n",
    "            best_val = val_set_accuracy\n",
    "            best_perceptron = model\n",
    "        results[(learning_rate, batch_size)] = (train_set_accuracy, val_set_accuracy)\n",
    "    \n",
    "################################################################################\n",
    "#                              END OF YOUR CODE                                #\n",
    "################################################################################\n",
    "    \n",
    "# Print out results.\n",
    "for lr, batch_size in sorted(results):\n",
    "    train_accuracy, val_accuracy = results[(lr, batch_size)]\n",
    "    print ('lr %e batch_size %e train accuracy: %f val accuracy: %f' % (\n",
    "                lr, batch_size, train_accuracy, val_accuracy))\n",
    "    \n",
    "print ('best validation accuracy achieved during cross-validation: %f' % best_val)\n",
    "\n",
    "test_accuracy = best_perceptron.calc_accuracy(X_test, y_test)\n",
    "print ('linear perceptron on raw pixels final test set accuracy: %f' % test_accuracy)"
   ]
  },
  {
   "cell_type": "markdown",
   "metadata": {
    "id": "upoW3pQ1ET8Q"
   },
   "source": [
    "## Logistic regression\n",
    "\n",
    "Another choice for a binary classifier is the binary logistic regression classifier. Unlike the perceptron which treats the outputs as uncalibrated and possibly difficult to interpret scores for each class, the binary logistic regression classifier gives a slightly more intuitive output in the form of normalized class probabilities. In this classifier, the function mapping $f(x_i; W, b) = W\\cdot x_i + b$ stays unchanged but we now interpret these scores as the unnormalized log probabilities for each class and replace the perceptron loss with a cross-entropy loss. In this exercise, we will define our binary logistic regression classifier to have one input.       \n",
    "\n",
    "Read the next code cell. The constructor of the `LogisticRegression` class takes as input the dataset and labels in order to create appropriate parameters. Notice we are using the bias trick and only use the matrix `w` for convenience. Since we already have a (random) model, we can start predicting classes on images. Complete the method `predict` in the `LogisticRegression` class - remember you need to implement the sigmoid function before you can obtain predictions using your classifier. **(10 Points)**\n",
    "\n",
    "**Important note**: values passed to the `sigmoid` function can be arbitrarily large or small. When we take the exponent of such values, we might encounter extreme values that might *overflow*. This is known as numerical instability and you should always take care when you use exponent in your functions. "
   ]
  },
  {
   "cell_type": "code",
   "execution_count": 98,
   "metadata": {
    "ExecuteTime": {
     "end_time": "2022-10-29T15:30:35.229664Z",
     "start_time": "2022-10-29T15:30:35.184722Z"
    },
    "id": "Y9cU2sJ_X96d"
   },
   "outputs": [],
   "source": [
    "def sigmoid(x):\n",
    "    \"\"\"\n",
    "    Numerically stable Sigmoid function.\n",
    "\n",
    "    Input: any unnormalized log probabilities vector\n",
    "    Output: normalized probabilities\n",
    "    \"\"\"\n",
    "    #############################################################################\n",
    "    # Implement the function                                                    #\n",
    "    #############################################################################\n",
    "    x = 1. / (1. + np.exp(-x))\n",
    "    return x\n",
    "    #############################################################################\n",
    "    #                             END OF YOUR CODE                              #\n",
    "    #############################################################################"
   ]
  },
  {
   "cell_type": "code",
   "execution_count": 99,
   "metadata": {
    "ExecuteTime": {
     "end_time": "2022-10-29T15:30:52.504993Z",
     "start_time": "2022-10-29T15:30:52.486057Z"
    },
    "id": "oGClf3GJLlBp"
   },
   "outputs": [],
   "source": [
    "class LogisticRegression(LinearClassifier):\n",
    "    # Classifer that uses sigmoid and binary cross entropy loss\n",
    "    def __init__(self, X, y):\n",
    "        self.W = None\n",
    "        ###########################################################################\n",
    "        # Initiate the parameters of your model.                                  #\n",
    "        ###########################################################################\n",
    "        n_features = X.shape[1]\n",
    "        self.W = np.random.randn(n_features, 1) * 0.0001\n",
    "        ###########################################################################\n",
    "        #                           END OF YOUR CODE                              #\n",
    "        ###########################################################################\n",
    "\n",
    "\n",
    "    def predict(self, X):\n",
    "        y_pred = None\n",
    "        ###########################################################################\n",
    "        # Implement this method.                                                  #\n",
    "        ###########################################################################\n",
    "        Z = X.dot(self.W)\n",
    "        activation = sigmoid(Z)\n",
    "        y_pred = np.round(activation.reshape((Z.shape[0],))).astype(int)\n",
    "        ###########################################################################\n",
    "        #                           END OF YOUR CODE                              #\n",
    "        ###########################################################################\n",
    "        return y_pred\n",
    "\n",
    "\n",
    "    def loss(self, X_batch, y_batch):\n",
    "        # will be implemented later\n",
    "        return binary_cross_entropy(self.W, X_batch, y_batch)"
   ]
  },
  {
   "cell_type": "code",
   "execution_count": 100,
   "metadata": {
    "ExecuteTime": {
     "end_time": "2022-10-29T15:30:53.132207Z",
     "start_time": "2022-10-29T15:30:53.121237Z"
    },
    "id": "BRrb-mb5ET8Q"
   },
   "outputs": [],
   "source": [
    "logistic = LogisticRegression(X_train, y_train)\n",
    "y_pred = logistic.predict(X_test)"
   ]
  },
  {
   "cell_type": "code",
   "execution_count": 101,
   "metadata": {
    "ExecuteTime": {
     "end_time": "2022-10-29T15:30:53.866044Z",
     "start_time": "2022-10-29T15:30:53.729569Z"
    },
    "colab": {
     "base_uri": "https://localhost:8080/",
     "height": 151
    },
    "id": "jUb2tkIMET8Q",
    "outputId": "291f15f3-2027-4203-e341-932763106cdb"
   },
   "outputs": [
    {
     "name": "stdout",
     "output_type": "stream",
     "text": [
      "      car\t      car\t    plane\t      car\n"
     ]
    },
    {
     "data": {
      "image/png": "[encoded data removed]",
      "text/plain": [
       "<Figure size 500x300 with 1 Axes>"
      ]
     },
     "metadata": {},
     "output_type": "display_data"
    }
   ],
   "source": [
    "X_batch, y_batch = get_batch(X_train, y_train, 4)\n",
    "plt.imshow(make_random_grid(X_batch, y_batch));"
   ]
  },
  {
   "cell_type": "code",
   "execution_count": 102,
   "metadata": {
    "ExecuteTime": {
     "end_time": "2022-10-29T15:31:05.584563Z",
     "start_time": "2022-10-29T15:31:05.559650Z"
    },
    "colab": {
     "base_uri": "https://localhost:8080/"
    },
    "id": "1I5T0LiBET8Q",
    "outputId": "c2163b3f-210c-4960-9800-4ab2d54fd9a0"
   },
   "outputs": [
    {
     "name": "stdout",
     "output_type": "stream",
     "text": [
      "          car         plane         plane           car\n"
     ]
    }
   ],
   "source": [
    "# predictions\n",
    "print(' '.join('%13s' % classes[y_pred[j]] for j in range(4)))"
   ]
  },
  {
   "cell_type": "code",
   "execution_count": 103,
   "metadata": {
    "ExecuteTime": {
     "end_time": "2022-10-29T15:31:10.105426Z",
     "start_time": "2022-10-29T15:31:10.033927Z"
    },
    "colab": {
     "base_uri": "https://localhost:8080/"
    },
    "id": "29GDDyzIET8Q",
    "outputId": "22eea029-a2b6-441d-dee6-b1819eda9b27"
   },
   "outputs": [
    {
     "name": "stdout",
     "output_type": "stream",
     "text": [
      "model accuracy:  39.07\n"
     ]
    }
   ],
   "source": [
    "print(\"model accuracy: \", logistic.calc_accuracy(X_train, y_train))"
   ]
  },
  {
   "cell_type": "markdown",
   "metadata": {
    "id": "Vpy2WTyGET8Q"
   },
   "source": [
    "## Binary cross-entropy\n",
    "\n",
    "Your code for this section will written in the next cell. \n",
    "\n",
    "Complete the function `binary_cross_entropy` using vectorized code. This function takes as input the weights, data, labels and outputs the calculated loss as a single number and the gradients with respect to W. (**20 points**)"
   ]
  },
  {
   "cell_type": "code",
   "execution_count": 104,
   "metadata": {
    "ExecuteTime": {
     "end_time": "2022-10-29T15:31:30.874716Z",
     "start_time": "2022-10-29T15:31:30.826315Z"
    },
    "id": "pfjEDW6n3mRu"
   },
   "outputs": [],
   "source": [
    "def log_logistic(v):\n",
    "    out = np.zeros(v.shape)\n",
    "    n_samples = v.shape[0]\n",
    "    for i in range(n_samples):\n",
    "        x = v[i]\n",
    "        out[i] = - np.log(1. + np.exp(-x)) if x > 0 else x - np.log(1. + np.exp(x))\n",
    "    return out\n",
    "    \n",
    "def binary_cross_entropy(W, X, y):\n",
    "    \"\"\"\n",
    "    Structured BCE loss function. Implement this function using vectorized code.\n",
    "    Inputs:\n",
    "    - W: array of weights\n",
    "    - X: array of data\n",
    "    - y: 1-dimensional array of length N with binary labels (0,1). \n",
    "    Returns:\n",
    "    a tuple of:\n",
    "    - loss as single float\n",
    "    - gradient with respect to weights W; an array of same shape as W\n",
    "    \"\"\"\n",
    "    loss = 0.0\n",
    "    dW = np.zeros(W.shape) # initialize the gradient as zero\n",
    "    #############################################################################\n",
    "    # Implement the function and store result in loss and the gradint in dW     #\n",
    "    # Note: in class you defined BCE that takes values from the range (-1,1).   #\n",
    "    # and the sigmoid function generally outputs values in the range (0,1).     #\n",
    "    # Make the proper adjustments for your code to work.                        #\n",
    "    #############################################################################\n",
    "    n_samples, n_features = X.shape\n",
    "    \n",
    "    T = np.where(y == 0, -1, 1)\n",
    "    Z = X.dot(W.flatten())\n",
    "    TZ = T * Z\n",
    "    \n",
    "    loss = (-1.) * np.sum(np.log(sigmoid(TZ)))\n",
    "    \n",
    "    # derivative\n",
    "    dw = sigmoid((-1.) * TZ) * T\n",
    "    dw = dw.reshape(X.shape[0], 1) * X\n",
    "    dW = (-1.) * np.sum(dw, axis=0).reshape(W.shape[0], 1)\n",
    "    \n",
    "    loss /= n_samples\n",
    "    dW /= n_samples\n",
    "    #############################################################################\n",
    "    #                             END OF YOUR CODE                              #\n",
    "    #############################################################################\n",
    "    return loss, dW"
   ]
  },
  {
   "cell_type": "code",
   "execution_count": 105,
   "metadata": {
    "ExecuteTime": {
     "end_time": "2022-10-29T15:31:34.082144Z",
     "start_time": "2022-10-29T15:31:34.066172Z"
    },
    "id": "EvLw8x4oET8Q"
   },
   "outputs": [],
   "source": [
    "W = np.random.randn(3073, 1) * 0.0001"
   ]
  },
  {
   "cell_type": "code",
   "execution_count": 106,
   "metadata": {
    "ExecuteTime": {
     "end_time": "2022-10-29T15:31:36.963381Z",
     "start_time": "2022-10-29T15:31:36.923469Z"
    },
    "colab": {
     "base_uri": "https://localhost:8080/"
    },
    "id": "1VKKB4y8ET8Q",
    "outputId": "69441e31-0264-4ef0-bd70-dfbaf258da76"
   },
   "outputs": [
    {
     "name": "stdout",
     "output_type": "stream",
     "text": [
      "loss: 0.702234\n",
      "CPU times: user 54.5 ms, sys: 27.5 ms, total: 82 ms\n",
      "Wall time: 10.8 ms\n"
     ]
    }
   ],
   "source": [
    "%%time\n",
    "loss_naive, grad_naive = binary_cross_entropy(W, X_val, y_val)\n",
    "print ('loss: %f' % (loss_naive, ))"
   ]
  },
  {
   "cell_type": "markdown",
   "metadata": {
    "id": "IawKSQqf8vSq"
   },
   "source": [
    "You are provided with a gradient test in the next cells:"
   ]
  },
  {
   "cell_type": "code",
   "execution_count": 107,
   "metadata": {
    "ExecuteTime": {
     "end_time": "2022-10-29T15:32:14.847516Z",
     "start_time": "2022-10-29T15:32:14.835995Z"
    },
    "id": "nms4Rd7O8s2l"
   },
   "outputs": [],
   "source": [
    "def grad_check(f, x, analytic_grad, num_checks=10, h=1e-5):\n",
    "    for i in range(num_checks):\n",
    "        ix = tuple([randrange(m) for m in x.shape])\n",
    "\n",
    "        oldval = x[ix]\n",
    "        x[ix] = oldval + h # increment by h\n",
    "        fxph = f(x) # evaluate f(x + h)\n",
    "        x[ix] = oldval - h # increment by h\n",
    "        fxmh = f(x) # evaluate f(x - h)\n",
    "        x[ix] = oldval # reset\n",
    "\n",
    "        grad_numerical = (fxph - fxmh) / (2 * h)\n",
    "        grad_analytic = analytic_grad[ix]\n",
    "        rel_error = abs(grad_numerical - grad_analytic) / (abs(grad_numerical) + abs(grad_analytic))\n",
    "        print ('numerical: %f analytic: %f, relative error: %e' % (grad_numerical, grad_analytic, rel_error))"
   ]
  },
  {
   "cell_type": "code",
   "execution_count": 108,
   "metadata": {
    "ExecuteTime": {
     "end_time": "2022-10-29T15:32:16.311794Z",
     "start_time": "2022-10-29T15:32:16.096941Z"
    },
    "colab": {
     "base_uri": "https://localhost:8080/"
    },
    "id": "i0OWqVCzET8R",
    "outputId": "208134b9-db41-46bf-b8ee-73077bb65d03"
   },
   "outputs": [
    {
     "name": "stdout",
     "output_type": "stream",
     "text": [
      "numerical: 8.652165 analytic: 8.652165, relative error: 2.626123e-09\n",
      "numerical: 6.612604 analytic: 6.612604, relative error: 1.359104e-08\n",
      "numerical: 1.396539 analytic: 1.396539, relative error: 4.187212e-08\n",
      "numerical: 8.029711 analytic: 8.029712, relative error: 8.262952e-09\n",
      "numerical: 8.752392 analytic: 8.752392, relative error: 2.585660e-09\n",
      "numerical: 9.062647 analytic: 9.062648, relative error: 3.624205e-09\n",
      "numerical: 15.266564 analytic: 15.266564, relative error: 4.563481e-09\n",
      "numerical: 1.250333 analytic: 1.250333, relative error: 7.238673e-08\n",
      "numerical: 4.764827 analytic: 4.764827, relative error: 1.451882e-08\n",
      "numerical: 11.662999 analytic: 11.662999, relative error: 7.042593e-09\n"
     ]
    }
   ],
   "source": [
    "loss, grad = binary_cross_entropy(W, X_val, y_val)\n",
    "f = lambda w: binary_cross_entropy(w, X_val, y_val)[0]\n",
    "grad_numerical = grad_check(f, W, grad)"
   ]
  },
  {
   "cell_type": "markdown",
   "metadata": {
    "id": "r-qL6Ti_ET8R"
   },
   "source": [
    "If implemented correctly, the training procedure you already implemented should work."
   ]
  },
  {
   "cell_type": "code",
   "execution_count": 109,
   "metadata": {
    "ExecuteTime": {
     "end_time": "2022-10-29T15:32:33.879334Z",
     "start_time": "2022-10-29T15:32:29.754892Z"
    },
    "colab": {
     "base_uri": "https://localhost:8080/"
    },
    "id": "RlW4q5xjET8R",
    "outputId": "4e639294-486c-40b8-cad1-8f49116b0509"
   },
   "outputs": [
    {
     "name": "stdout",
     "output_type": "stream",
     "text": [
      "iteration 0 / 1500: loss 0.684221\n",
      "iteration 100 / 1500: loss 0.510081\n",
      "iteration 200 / 1500: loss 0.432642\n",
      "iteration 300 / 1500: loss 0.534512\n",
      "iteration 400 / 1500: loss 0.456191\n",
      "iteration 500 / 1500: loss 0.440132\n",
      "iteration 600 / 1500: loss 0.489239\n",
      "iteration 700 / 1500: loss 0.406149\n",
      "iteration 800 / 1500: loss 0.465956\n",
      "iteration 900 / 1500: loss 0.399247\n",
      "iteration 1000 / 1500: loss 0.543332\n",
      "iteration 1100 / 1500: loss 0.442888\n",
      "iteration 1200 / 1500: loss 0.429857\n",
      "iteration 1300 / 1500: loss 0.517432\n",
      "iteration 1400 / 1500: loss 0.424302\n",
      "CPU times: user 29.2 s, sys: 11.3 s, total: 40.5 s\n",
      "Wall time: 5.24 s\n"
     ]
    }
   ],
   "source": [
    "%%time\n",
    "logistic = LogisticRegression(X_train, y_train)\n",
    "loss_history = logistic.train(X_train, y_train, \n",
    "                         learning_rate=1e-7,\n",
    "                         num_iters=1500,\n",
    "                         verbose=True)"
   ]
  },
  {
   "cell_type": "code",
   "execution_count": 110,
   "metadata": {
    "ExecuteTime": {
     "end_time": "2022-10-29T15:32:34.608148Z",
     "start_time": "2022-10-29T15:32:34.441343Z"
    },
    "colab": {
     "base_uri": "https://localhost:8080/",
     "height": 279
    },
    "id": "v_6Pf6lYET8R",
    "outputId": "f7d461cd-8211-4eeb-fe63-ae5e75ee18f2",
    "scrolled": true
   },
   "outputs": [
    {
     "data": {
      "image/png": "[encoded data removed]",
      "text/plain": [
       "<Figure size 500x300 with 1 Axes>"
      ]
     },
     "metadata": {},
     "output_type": "display_data"
    }
   ],
   "source": [
    "plt.plot(loss_history)\n",
    "plt.xlabel('Iteration number')\n",
    "plt.ylabel('Loss value')\n",
    "plt.show()"
   ]
  },
  {
   "cell_type": "code",
   "execution_count": 111,
   "metadata": {
    "ExecuteTime": {
     "end_time": "2022-10-29T15:32:35.262213Z",
     "start_time": "2022-10-29T15:32:35.201690Z"
    },
    "colab": {
     "base_uri": "https://localhost:8080/"
    },
    "id": "4S2RkwT3ET8R",
    "outputId": "d1e1232a-da7b-4b80-a7e4-18a21923d94b"
   },
   "outputs": [
    {
     "name": "stdout",
     "output_type": "stream",
     "text": [
      "Training accuracy:  81.32000000000001\n",
      "Testing accuracy:  81.6\n"
     ]
    }
   ],
   "source": [
    "print(\"Training accuracy: \", logistic.calc_accuracy(X_train, y_train))\n",
    "print(\"Testing accuracy: \", logistic.calc_accuracy(X_test, y_test))"
   ]
  },
  {
   "cell_type": "markdown",
   "metadata": {
    "id": "G-1hg3RWET8R"
   },
   "source": [
    "## Hyperparameter optimization\n",
    "\n",
    "Your model should have improved from 50% accuracy to ~75% accuracy in a matter of seconds. Now, use the validation set to tune hyperparameters by training different models (using the training dataset) and evaluating the performance using the validation dataset. Save the results in a dictionary mapping tuples of the form `(learning_rate, batch_size)` to tuples of the form `(training_accuracy, validation_accuracy)`. Finally, you should evaluate the best model on the testing dataset. \n",
    "\n",
    "Use a small value for the number of iterations as you develop your code. Once you are confident that everything works, run it again for more iterations. **(5 points)**"
   ]
  },
  {
   "cell_type": "code",
   "execution_count": 112,
   "metadata": {
    "ExecuteTime": {
     "end_time": "2022-10-29T15:34:05.819661Z",
     "start_time": "2022-10-29T15:33:33.339414Z"
    },
    "colab": {
     "base_uri": "https://localhost:8080/"
    },
    "id": "sxXvTbhJET8R",
    "outputId": "6acf3087-3461-4715-92c9-0fc4029f6c2f"
   },
   "outputs": [
    {
     "name": "stdout",
     "output_type": "stream",
     "text": [
      "iteration 0 / 10000: loss 0.659277\n",
      "iteration 100 / 10000: loss 0.820104\n",
      "iteration 200 / 10000: loss 0.626349\n",
      "iteration 300 / 10000: loss 1.442818\n",
      "iteration 400 / 10000: loss 0.096557\n",
      "iteration 500 / 10000: loss 0.046166\n",
      "iteration 600 / 10000: loss 0.025465\n",
      "iteration 700 / 10000: loss 1.222594\n",
      "iteration 800 / 10000: loss 0.292724\n",
      "iteration 900 / 10000: loss 0.939214\n",
      "iteration 1000 / 10000: loss 0.139728\n",
      "iteration 1100 / 10000: loss 0.675737\n",
      "iteration 1200 / 10000: loss 1.299181\n",
      "iteration 1300 / 10000: loss 0.180268\n",
      "iteration 1400 / 10000: loss 0.109106\n",
      "iteration 1500 / 10000: loss 0.025118\n",
      "iteration 1600 / 10000: loss 0.153614\n",
      "iteration 1700 / 10000: loss 1.785911\n",
      "iteration 1800 / 10000: loss 2.724529\n",
      "iteration 1900 / 10000: loss 1.184743\n",
      "iteration 2000 / 10000: loss 0.082953\n",
      "iteration 2100 / 10000: loss 2.328257\n",
      "iteration 2200 / 10000: loss 0.364685\n",
      "iteration 2300 / 10000: loss 0.129769\n",
      "iteration 2400 / 10000: loss 0.350983\n",
      "iteration 2500 / 10000: loss 0.015514\n",
      "iteration 2600 / 10000: loss 0.080948\n",
      "iteration 2700 / 10000: loss 1.542466\n",
      "iteration 2800 / 10000: loss 0.101505\n",
      "iteration 2900 / 10000: loss 0.252251\n",
      "iteration 3000 / 10000: loss 0.039004\n",
      "iteration 3100 / 10000: loss 0.110673\n",
      "iteration 3200 / 10000: loss 0.933005\n",
      "iteration 3300 / 10000: loss 0.145044\n",
      "iteration 3400 / 10000: loss 0.288355\n",
      "iteration 3500 / 10000: loss 0.050209\n",
      "iteration 3600 / 10000: loss 0.115476\n",
      "iteration 3700 / 10000: loss 0.813118\n",
      "iteration 3800 / 10000: loss 0.948365\n",
      "iteration 3900 / 10000: loss 0.359818\n",
      "iteration 4000 / 10000: loss 0.146597\n",
      "iteration 4100 / 10000: loss 0.653070\n",
      "iteration 4200 / 10000: loss 0.023555\n",
      "iteration 4300 / 10000: loss 0.025484\n",
      "iteration 4400 / 10000: loss 0.952954\n",
      "iteration 4500 / 10000: loss 0.070119\n",
      "iteration 4600 / 10000: loss 0.088794\n",
      "iteration 4700 / 10000: loss 0.327503\n",
      "iteration 4800 / 10000: loss 0.101366\n",
      "iteration 4900 / 10000: loss 0.487042\n",
      "iteration 5000 / 10000: loss 0.036940\n",
      "iteration 5100 / 10000: loss 0.008130\n",
      "iteration 5200 / 10000: loss 0.858550\n",
      "iteration 5300 / 10000: loss 0.382762\n",
      "iteration 5400 / 10000: loss 0.001669\n",
      "iteration 5500 / 10000: loss 0.495750\n",
      "iteration 5600 / 10000: loss 0.352233\n",
      "iteration 5700 / 10000: loss 0.000992\n",
      "iteration 5800 / 10000: loss 0.283078\n",
      "iteration 5900 / 10000: loss 0.240043\n",
      "iteration 6000 / 10000: loss 0.288213\n",
      "iteration 6100 / 10000: loss 0.118844\n",
      "iteration 6200 / 10000: loss 0.058603\n",
      "iteration 6300 / 10000: loss 0.020378\n",
      "iteration 6400 / 10000: loss 0.009397\n",
      "iteration 6500 / 10000: loss 0.296652\n",
      "iteration 6600 / 10000: loss 0.138686\n",
      "iteration 6700 / 10000: loss 0.000050\n",
      "iteration 6800 / 10000: loss 0.278437\n",
      "iteration 6900 / 10000: loss 0.186157\n",
      "iteration 7000 / 10000: loss 0.009053\n",
      "iteration 7100 / 10000: loss 0.036078\n",
      "iteration 7200 / 10000: loss 0.678707\n",
      "iteration 7300 / 10000: loss 0.287198\n",
      "iteration 7400 / 10000: loss 0.006736\n",
      "iteration 7500 / 10000: loss 0.348954\n",
      "iteration 7600 / 10000: loss 1.101094\n",
      "iteration 7700 / 10000: loss 0.000182\n",
      "iteration 7800 / 10000: loss 0.004516\n",
      "iteration 7900 / 10000: loss 1.563595\n",
      "iteration 8000 / 10000: loss 0.169732\n",
      "iteration 8100 / 10000: loss 0.112554\n",
      "iteration 8200 / 10000: loss 0.834273\n",
      "iteration 8300 / 10000: loss 0.003271\n",
      "iteration 8400 / 10000: loss 0.537349\n",
      "iteration 8500 / 10000: loss 0.023228\n",
      "iteration 8600 / 10000: loss 0.765234\n",
      "iteration 8700 / 10000: loss 0.686076\n",
      "iteration 8800 / 10000: loss 1.365681\n",
      "iteration 8900 / 10000: loss 0.395665\n",
      "iteration 9000 / 10000: loss 0.480188\n",
      "iteration 9100 / 10000: loss 0.072763\n",
      "iteration 9200 / 10000: loss 0.029462\n",
      "iteration 9300 / 10000: loss 0.170040\n",
      "iteration 9400 / 10000: loss 0.936308\n",
      "iteration 9500 / 10000: loss 0.036281\n",
      "iteration 9600 / 10000: loss 0.298214\n",
      "iteration 9700 / 10000: loss 0.175270\n",
      "iteration 9800 / 10000: loss 0.092062\n",
      "iteration 9900 / 10000: loss 0.008488\n",
      "iteration 0 / 100: loss 0.720339\n",
      "iteration 0 / 50: loss 0.758543\n",
      "iteration 0 / 20: loss 0.633054\n",
      "iteration 0 / 10000: loss 0.527892\n",
      "iteration 100 / 10000: loss 70.439069\n",
      "iteration 200 / 10000: loss 45.390121\n",
      "iteration 300 / 10000: loss 0.000000\n",
      "iteration 400 / 10000: loss -0.000000\n",
      "iteration 500 / 10000: loss -0.000000\n",
      "iteration 600 / 10000: loss -0.000000\n",
      "iteration 700 / 10000: loss -0.000000\n",
      "iteration 800 / 10000: loss 4.443274\n",
      "iteration 900 / 10000: loss 0.097679\n",
      "iteration 1000 / 10000: loss -0.000000\n",
      "iteration 1100 / 10000: loss -0.000000\n",
      "iteration 1200 / 10000: loss 0.000000\n",
      "iteration 1300 / 10000: loss 0.000000\n",
      "iteration 1400 / 10000: loss 0.000000\n",
      "iteration 1500 / 10000: loss -0.000000\n",
      "iteration 1600 / 10000: loss 24.193126\n",
      "iteration 1700 / 10000: loss 0.000000\n",
      "iteration 1800 / 10000: loss 70.694544\n",
      "iteration 1900 / 10000: loss 0.000000\n",
      "iteration 2000 / 10000: loss -0.000000\n",
      "iteration 2100 / 10000: loss 17.621682\n",
      "iteration 2200 / 10000: loss 0.000000\n",
      "iteration 2300 / 10000: loss 0.000000\n",
      "iteration 2400 / 10000: loss 23.067269\n",
      "iteration 2500 / 10000: loss -0.000000\n",
      "iteration 2600 / 10000: loss 0.002031\n",
      "iteration 2700 / 10000: loss 30.856700\n",
      "iteration 2800 / 10000: loss -0.000000\n",
      "iteration 2900 / 10000: loss 0.000018\n",
      "iteration 3000 / 10000: loss -0.000000\n",
      "iteration 3100 / 10000: loss 71.447091\n",
      "iteration 3200 / 10000: loss 18.000504\n",
      "iteration 3300 / 10000: loss 43.543349\n",
      "iteration 3400 / 10000: loss -0.000000\n",
      "iteration 3500 / 10000: loss 0.000000\n",
      "iteration 3600 / 10000: loss 48.840444\n",
      "iteration 3700 / 10000: loss -0.000000\n",
      "iteration 3800 / 10000: loss 0.000385\n",
      "iteration 3900 / 10000: loss 0.000114\n",
      "iteration 4000 / 10000: loss 111.052846\n",
      "iteration 4100 / 10000: loss -0.000000\n",
      "iteration 4200 / 10000: loss -0.000000\n",
      "iteration 4300 / 10000: loss 0.000000\n",
      "iteration 4400 / 10000: loss -0.000000\n",
      "iteration 4500 / 10000: loss 51.853079\n",
      "iteration 4600 / 10000: loss 32.145341\n",
      "iteration 4700 / 10000: loss -0.000000\n",
      "iteration 4800 / 10000: loss -0.000000\n",
      "iteration 4900 / 10000: loss 0.000000\n",
      "iteration 5000 / 10000: loss -0.000000\n",
      "iteration 5100 / 10000: loss -0.000000\n",
      "iteration 5200 / 10000: loss 37.616917\n",
      "iteration 5300 / 10000: loss 0.002848\n",
      "iteration 5400 / 10000: loss -0.000000\n",
      "iteration 5500 / 10000: loss 64.164745\n",
      "iteration 5600 / 10000: loss -0.000000\n",
      "iteration 5700 / 10000: loss 7.330352\n",
      "iteration 5800 / 10000: loss 18.770221\n",
      "iteration 5900 / 10000: loss 0.000244\n",
      "iteration 6000 / 10000: loss -0.000000\n",
      "iteration 6100 / 10000: loss 0.000000\n",
      "iteration 6200 / 10000: loss 0.000000\n",
      "iteration 6300 / 10000: loss -0.000000\n",
      "iteration 6400 / 10000: loss 0.000000\n",
      "iteration 6500 / 10000: loss -0.000000\n",
      "iteration 6600 / 10000: loss -0.000000\n",
      "iteration 6700 / 10000: loss -0.000000\n",
      "iteration 6800 / 10000: loss -0.000000\n",
      "iteration 6900 / 10000: loss 0.000000\n",
      "iteration 7000 / 10000: loss 3.239204\n",
      "iteration 7100 / 10000: loss 99.229030\n",
      "iteration 7200 / 10000: loss 0.000000\n",
      "iteration 7300 / 10000: loss 37.053096\n",
      "iteration 7400 / 10000: loss 10.538414\n",
      "iteration 7500 / 10000: loss 0.000000\n",
      "iteration 7600 / 10000: loss 0.000000\n",
      "iteration 7700 / 10000: loss -0.000000\n",
      "iteration 7800 / 10000: loss -0.000000\n",
      "iteration 7900 / 10000: loss 0.000000\n",
      "iteration 8000 / 10000: loss -0.000000\n",
      "iteration 8100 / 10000: loss 1.911504\n",
      "iteration 8200 / 10000: loss -0.000000\n",
      "iteration 8300 / 10000: loss 0.000126\n",
      "iteration 8400 / 10000: loss -0.000000\n",
      "iteration 8500 / 10000: loss 0.000000\n",
      "iteration 8600 / 10000: loss -0.000000\n",
      "iteration 8700 / 10000: loss -0.000000\n",
      "iteration 8800 / 10000: loss -0.000000\n",
      "iteration 8900 / 10000: loss 7.366451\n",
      "iteration 9000 / 10000: loss -0.000000\n",
      "iteration 9100 / 10000: loss 0.000026\n",
      "iteration 9200 / 10000: loss 0.000000\n",
      "iteration 9300 / 10000: loss 0.159112\n",
      "iteration 9400 / 10000: loss 0.000000\n",
      "iteration 9500 / 10000: loss -0.000000\n",
      "iteration 9600 / 10000: loss 25.437402\n",
      "iteration 9700 / 10000: loss -0.000000\n",
      "iteration 9800 / 10000: loss -0.000000\n",
      "iteration 9900 / 10000: loss -0.000000\n",
      "iteration 0 / 100: loss 0.778353\n",
      "iteration 0 / 50: loss 0.741738\n",
      "iteration 0 / 20: loss 0.751980\n",
      "lr 1.000000e-07 batch_size 1.000000e+00 train accuracy: 81.310000 val accuracy: 82.500000\n",
      "lr 1.000000e-07 batch_size 1.000000e+02 train accuracy: 77.630000 val accuracy: 78.800000\n",
      "lr 1.000000e-07 batch_size 2.000000e+02 train accuracy: 74.460000 val accuracy: 75.100000\n",
      "lr 1.000000e-07 batch_size 5.000000e+02 train accuracy: 71.490000 val accuracy: 72.600000\n",
      "lr 5.000000e-06 batch_size 1.000000e+00 train accuracy: 79.320000 val accuracy: 80.000000\n",
      "lr 5.000000e-06 batch_size 1.000000e+02 train accuracy: 63.830000 val accuracy: 63.400000\n",
      "lr 5.000000e-06 batch_size 2.000000e+02 train accuracy: 81.240000 val accuracy: 81.500000\n",
      "lr 5.000000e-06 batch_size 5.000000e+02 train accuracy: 79.020000 val accuracy: 80.000000\n",
      "best validation accuracy achieved during cross-validation: 82.500000\n",
      "Binary logistic regression on raw pixels final test set accuracy: 81.100000\n"
     ]
    }
   ],
   "source": [
    "# You are encouraged to experiment with additional values\n",
    "learning_rates = [1e-7, 5e-6]\n",
    "batch_sizes = [1, 100, 200, 500]\n",
    "\n",
    "results = {}\n",
    "best_val = -1   # The highest validation accuracy that we have seen so far.\n",
    "best_logistic = None # The LogisticRegression object that achieved the highest validation rate.\n",
    "\n",
    "################################################################################\n",
    "#                            START OF YOUR CODE                                #\n",
    "################################################################################\n",
    "SAMPLES = X_train.shape[0]\n",
    "EPOCHS = 1\n",
    "iterations = lambda batch_size: int(EPOCHS * SAMPLES / batch_size)\n",
    "\n",
    "for learning_rate in learning_rates:\n",
    "    for batch_size in batch_sizes:\n",
    "        iters = iterations(batch_size)\n",
    "        model = LogisticRegression(X_train, y_train)\n",
    "        _ = model.train(\n",
    "            X_train,\n",
    "            y_train,\n",
    "            learning_rate,\n",
    "            iters,\n",
    "            batch_size,\n",
    "            verbose=True\n",
    "        )\n",
    "        train_set_accuracy = model.calc_accuracy(X_train, y_train)\n",
    "        val_set_accuracy = model.calc_accuracy(X_val, y_val)\n",
    "\n",
    "        if val_set_accuracy > best_val:\n",
    "            best_val = val_set_accuracy\n",
    "            best_logistic = model\n",
    "        results[(learning_rate, batch_size)] = (train_set_accuracy, val_set_accuracy)\n",
    "\n",
    "################################################################################\n",
    "#                              END OF YOUR CODE                                #\n",
    "################################################################################\n",
    "    \n",
    "# Print out results.\n",
    "for lr, batch_size in sorted(results):\n",
    "    train_accuracy, val_accuracy = results[(lr, batch_size)]\n",
    "    print ('lr %e batch_size %e train accuracy: %f val accuracy: %f' % (\n",
    "                lr, batch_size, train_accuracy, val_accuracy))\n",
    "    \n",
    "print ('best validation accuracy achieved during cross-validation: %f' % best_val)\n",
    "\n",
    "test_accuracy = best_logistic.calc_accuracy(X_test, y_test)\n",
    "print ('Binary logistic regression on raw pixels final test set accuracy: %f' % test_accuracy)"
   ]
  },
  {
   "cell_type": "markdown",
   "metadata": {
    "id": "rdRdvKwR7MdF"
   },
   "source": [
    "# The End!"
   ]
  }
 ],
 "metadata": {
  "colab": {
   "collapsed_sections": [],
   "name": "HW1.ipynb",
   "provenance": []
  },
  "kernelspec": {
   "display_name": "Python 3 (ipykernel)",
   "language": "python",
   "name": "python3"
  },
  "language_info": {
   "codemirror_mode": {
    "name": "ipython",
    "version": 3
   },
   "file_extension": ".py",
   "mimetype": "text/x-python",
   "name": "python",
   "nbconvert_exporter": "python",
   "pygments_lexer": "ipython3",
   "version": "3.9.13"
  },
  "toc": {
   "base_numbering": 1,
   "nav_menu": {},
   "number_sections": true,
   "sideBar": true,
   "skip_h1_title": false,
   "title_cell": "Table of Contents",
   "title_sidebar": "Contents",
   "toc_cell": false,
   "toc_position": {},
   "toc_section_display": true,
   "toc_window_display": false
  },
  "varInspector": {
   "cols": {
    "lenName": 16,
    "lenType": 16,
    "lenVar": 40
   },
   "kernels_config": {
    "python": {
     "delete_cmd_postfix": "",
     "delete_cmd_prefix": "del ",
     "library": "var_list.py",
     "varRefreshCmd": "print(var_dic_list())"
    },
    "r": {
     "delete_cmd_postfix": ") ",
     "delete_cmd_prefix": "rm(",
     "library": "var_list.r",
     "varRefreshCmd": "cat(var_dic_list()) "
    }
   },
   "types_to_exclude": [
    "module",
    "function",
    "builtin_function_or_method",
    "instance",
    "_Feature"
   ],
   "window_display": false
  }
 },
 "nbformat": 4,
 "nbformat_minor": 1
}
